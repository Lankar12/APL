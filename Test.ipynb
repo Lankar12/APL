{
 "cells": [
  {
   "cell_type": "code",
   "execution_count": null,
   "metadata": {},
   "outputs": [],
   "source": [
    "Var1←20.88 10 ¯2.3 0 0.555 222 0 2 3.3 9\n",
    "Var2←'Count all the vowels in the string'"
   ]
  },
  {
   "cell_type": "code",
   "execution_count": null,
   "metadata": {},
   "outputs": [],
   "source": [
    "⍝ 1. I have two variant of solution. First one is with floor \n",
    "+/ Var1=⌊Var1"
   ]
  },
  {
   "cell_type": "code",
   "execution_count": null,
   "metadata": {},
   "outputs": [],
   "source": [
    "⍝ The second one is with cheking is a element can divides on 1\n",
    "+/ 0=1|Var1"
   ]
  },
  {
   "cell_type": "code",
   "execution_count": null,
   "metadata": {},
   "outputs": [],
   "source": [
    "⍝ 2. In the second i use ⎕R to lowercase all letters. And S for search all vowels.\n",
    "⍴ ('a|o|e|y|i|u' ⎕S 0) ('.' ⎕R '\\l&') Var2"
   ]
  },
  {
   "cell_type": "code",
   "execution_count": null,
   "metadata": {},
   "outputs": [],
   "source": [
    "⍝ 3. In third one i divide all elements in a list by 3 compare with 0 and sum it. \n",
    "⍴ ⍕ +/ (0=3|⍳10000)×⍳10000"
   ]
  },
  {
   "cell_type": "markdown",
   "metadata": {},
   "source": [
    "If something going wrong you may check buy paste my code into https://tryapl.org/. It works)"
   ]
  },
  {
   "cell_type": "code",
   "execution_count": null,
   "metadata": {},
   "outputs": [],
   "source": []
  }
 ],
 "metadata": {
  "kernelspec": {
   "display_name": "Dyalog APL",
   "language": "apl",
   "name": "dyalog-kernel"
  }
 },
 "nbformat": 4,
 "nbformat_minor": 2
}
